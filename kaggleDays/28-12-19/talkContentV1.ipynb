{
 "cells": [
  {
   "cell_type": "markdown",
   "metadata": {},
   "source": [
    "# Finding Similar Text\n",
    "****\n",
    "\n",
    "How much two strings are similar ?"
   ]
  },
  {
   "cell_type": "markdown",
   "metadata": {},
   "source": [
    "![SegmentLocal](images/step0/whatDoYouMean.gif \"segment\")"
   ]
  },
  {
   "cell_type": "markdown",
   "metadata": {},
   "source": [
    "How humans usually defines how similar are two strings ?\n",
    "Two strings can be similar in many ways:\n",
    "\n",
    "    1) Word level\n",
    "        A) Try to capture inflectious form of string (multiple ways of writing)\n",
    "           Example:[1]\n",
    "               i) Singular/Plural: course and courses\n",
    "              ii) Tense: take and took\n",
    "             iii) Contractions: aren't and are not\n",
    "              iv) Expansions: TCS and Tata Consultancy Services\n",
    "               v) Typo Mistake: poetry and peotry  \n",
    "              vi) Canonical forms: MBA and M.B.A, B.Tech and BTech\n",
    "             vii) Replacement words/emojis: @ and at, u and you, happy and :)\n",
    "            viii) Is a type relation/ Synonyms: Color (red, green, orange)  \n",
    "            \n",
    "    2) Multiple word (Phrase) level\n",
    "        i) Different way of writing (usually multiple words):\n",
    "            --> Segmentation: Newyork and New york\n",
    "            --> Location of word: GTB Nagar, Delhi == Delhi, GTB Nagar OR Delhi meetup == Meetup delhi\n",
    "            --> Missing of word: Hindustan private limited == Hindustan limited\n",
    "            --> Missing of word with inflection: Hindustan private limited == Hindustan ltd.\n",
    "            \n",
    "    3) Sentence Level\n",
    "        i) Lexical similarity: Number of common words matter instead of meaning of sentence\n",
    "            Example:[2]\n",
    "                PASS\n",
    "                    S1 = My name is Aakash Goel.\n",
    "                    S2 = Aakash Goel is my name.\n",
    "                ---------------------------------\n",
    "                PASS BY CHANCE\n",
    "                    S1 = A girl is styling her hair.\n",
    "                    S2 = A girl is brushing her hair.\n",
    "\n",
    "                    S1 = One woman is measuring another woman's ankle.\n",
    "                    S2 = A woman measures another woman's ankle.\n",
    "                ---------------------------------\n",
    "                FAIL\n",
    "                    S1 = How are you ?\n",
    "                    S2 = How old are you ?\n",
    "                    \n",
    "                    S1 = record the play\n",
    "                    S2 = play the record\n",
    "       ii) Semantic similarity: Actual meaning of sentence matters instead of common words\n",
    "           Example:[3]\n",
    "               S1 = The weather is cold today.\n",
    "               S2 = It is freezing today. \n",
    "\n",
    "![SegmentLocal](images/step0/semantic.png \"segment\")"
   ]
  },
  {
   "cell_type": "markdown",
   "metadata": {},
   "source": [
    "## STEP I: Setting up Problem\n",
    "****\n",
    "\n",
    "Lets set some **background** first:\n",
    "\n",
    "User browsing through some Question Answering website like Quora, StackOverflow and it's no surprise that many people ask similarly worded questions. Multiple questions with the same intent can cause seekers to spend more time finding the best answer to their question, and make writers feel they need to answer multiple versions of the same question.[4]\n",
    "\n",
    "**IDEA:** Can we identify question pairs that have the same intent? \n",
    "\n",
    "Doing so will make it easier to find high quality answers to questions resulting in an improved experience for Quora writers, seekers, and readers.\n",
    "\n",
    "From **Modelling Propective**,\n",
    "    \n",
    "    GOAL: Predict whether given two questions are similar or not"
   ]
  },
  {
   "cell_type": "markdown",
   "metadata": {},
   "source": [
    "## STEP II:Getting Data\n",
    "****\n",
    "Kaggle organized competition \"Quora Question Pairs\" (https://www.kaggle.com/c/quora-question-pairs/data)\n",
    "\n",
    "Also, using **embeddings** like word2vec (https://drive.google.com/file/d/0B7XkCwpI5KDYNlNUTTlSS21pQmM/edit), GLOVE (https://nlp.stanford.edu/projects/glove/), FastText (https://fasttext.cc/docs/en/english-vectors.html)\n",
    "\n",
    "**Other Datasets**: \n",
    "- https://nlp.stanford.edu/projects/snli/\n",
    "- http://alt.qcri.org/semeval2017/task3/"
   ]
  },
  {
   "cell_type": "markdown",
   "metadata": {},
   "source": [
    "![SegmentLocal](images/step2/data1.png \"segment\")"
   ]
  },
  {
   "cell_type": "markdown",
   "metadata": {},
   "source": [
    "![SegmentLocal](images/step2/data1_1.png \"segment\")"
   ]
  },
  {
   "cell_type": "markdown",
   "metadata": {},
   "source": [
    "## STEP III: Clean and Prepare data\n",
    "All Ideas regarding feature engineering:\n",
    "****"
   ]
  },
  {
   "cell_type": "markdown",
   "metadata": {},
   "source": [
    "![SegmentLocal](images/step3/eda1.png \"segment\")"
   ]
  },
  {
   "cell_type": "markdown",
   "metadata": {},
   "source": [
    "**Feature Engineering** [6]\n",
    "\n",
    "**Basic** Features\n",
    "- Number of coomon words in question 1 and question 2\n",
    "- Number of characters and words in question 1 and question 2\n",
    "- Number of character without spaces\n",
    "- Difference in length of question 1 and question 2\n",
    "\n",
    "**Fuzzy Wuzzy** Features\n",
    "- Token Sort, Token Set, Partial token set, Partial token sort, levenshtein, QRatio, WRatio\n",
    "\n",
    "**Word2Vec** Features\n",
    "![SegmentLocal](images/step3/wordvec1.png \"segment\")\n",
    "- cosine distance\n",
    "- word mover distance (WMD) uses the **word embeddings** of the words in two texts to measure the **minimum distance** that the words in one text need\n",
    "to **travel in semantic space** to reach the words in the other text.[5]\n",
    "![SegmentLocal](images/step3/wmd.png \"segment\")\n"
   ]
  },
  {
   "cell_type": "markdown",
   "metadata": {},
   "source": [
    "![SegmentLocal](images/step3/import1.png \"segment\")"
   ]
  },
  {
   "cell_type": "markdown",
   "metadata": {},
   "source": [
    "**Get vector of sentence from word vector** [5,7,8,]\n",
    "- Average of all the word vectors in a sentence, It ignores the order of words and sentence semantics\n",
    "- Average of Word2Vec vectors with TF-IDF, It again loses word order within the sentence\n",
    "- Doc2Vec: Train your dataset using Doc2Vec and then use the sentence vectors\n",
    "- Pre-trained sentence encoders\n",
    "    - Google's Universal Sentence Encoder: Encodes text into high dimensional vectors that can be used for text classification, semantic similarity, clustering and other natural language tasks [9,10]\n",
    "    - Facebook's Infersent: One of architecture it uses is Bi-LSTM with max/mean pooling [11,12]\n",
    "      ![SegmentLocal](images/step3/infersent.jpg \"segment\")"
   ]
  },
  {
   "cell_type": "markdown",
   "metadata": {},
   "source": [
    "![SegmentLocal](images/step3/feature1.png \"segment\")"
   ]
  },
  {
   "cell_type": "markdown",
   "metadata": {},
   "source": [
    "\n",
    "![SegmentLocal](images/step3/feature1_1.png \"segment\")\n",
    "![SegmentLocal](images/step3/feature1_2.png \"segment\")"
   ]
  },
  {
   "cell_type": "markdown",
   "metadata": {},
   "source": [
    "## Step IV: Building  Model \n",
    "\n",
    "![SegmentLocal](images/step4/model.png \"segment\")\n",
    "Above image used for reference purpose only as it good snapshot of pipieline [14] \n",
    "\n",
    "Below are common steps across deep learning based model:\n",
    "- Preprocessing data\n",
    "    - Tokenizer, Pad Sequences\n",
    "    - Prepare Embedding layer\n",
    "![SegmentLocal](images/step4/common_steps1.png \"segment\")\n",
    "![SegmentLocal](images/step4/common_steps2.png \"segment\")\n",
    "- Development of model architecture\n",
    "- Model fit\n",
    "- check model result and robustness\n",
    "\n",
    "**Approach 1**: CNN - Version1\n",
    "\n",
    "![SegmentLocal](images/step4/tech1.png \"segment\")\n",
    "![SegmentLocal](images/step4/tech1_result.png \"segment\")\n",
    "\n",
    "**Approach 2**: CNN - Version2 [15]\n",
    "\n",
    "![SegmentLocal](images/step4/tech2.png \"segment\")\n",
    "![SegmentLocal](images/step4/tech2_1.png \"segment\")\n",
    "![SegmentLocal](images/step4/tech2_2.png \"segment\")\n",
    "![SegmentLocal](images/step4/tech2_3.png \"segment\")\n",
    "![SegmentLocal](images/step4/tech2_result.png \"segment\")\n",
    "\n",
    "**Approach 3**: CNN + LSTM \n",
    "\n",
    "![SegmentLocal](images/step4/tech3.png \"segment\")\n",
    "![SegmentLocal](images/step4/tech3_1.png \"segment\")\n",
    "![SegmentLocal](images/step4/tech3_2.png \"segment\")\n",
    "![SegmentLocal](images/step4/tech3_result.png \"segment\")"
   ]
  },
  {
   "cell_type": "markdown",
   "metadata": {},
   "source": [
    "References\n",
    "****\n",
    "1) http://www.cse.iitd.ac.in/~mausam/courses/csl772/autumn2014/lectures/03-morph.pdf\n",
    "\n",
    "2) https://medium.com/@adriensieg/text-similarities-da019229c894\n",
    "\n",
    "3) https://ai.googleblog.com/2018/05/advances-in-semantic-textual-similarity.html\n",
    "\n",
    "4) https://www.kaggle.com/c/quora-question-pairs\n",
    "\n",
    "5) https://medium.com/@adriensieg/text-similarities-da019229c894\n",
    "\n",
    "6) https://www.youtube.com/watch?v=vA1V8A69e9c\n",
    "\n",
    "7) https://stackoverflow.com/questions/29760935/how-to-get-vector-for-a-sentence-from-the-word2vec-of-tokens-in-sentence\n",
    "\n",
    "8) https://medium.com/explorations-in-language-and-learning/how-to-obtain-sentence-vectors-2a6d88bd3c8b\n",
    "\n",
    "9) https://static.googleusercontent.com/media/research.google.com/en//pubs/archive/46808.pdf\n",
    "\n",
    "10) https://www.nishanpantha.com.np/programming/universal-sentence-encoder-semantic-search.html\n",
    "\n",
    "11) https://arxiv.org/pdf/1705.02364.pdf\n",
    "\n",
    "12) https://medium.com/analytics-vidhya/sentence-embeddings-facebooks-infersent-6ac4a9fc2001\n",
    "\n",
    "13) https://paperswithcode.com/task/semantic-textual-similarity\n",
    "\n",
    "14) https://mc.ai/identifying-duplicate-questions-part-1%E2%80%8A-%E2%80%8Aproblem-description-data-processing/\n",
    "\n",
    "15) https://www.kaggle.com/rethfro/1d-cnn-single-model-score-0-14-0-16-or-0-23"
   ]
  }
 ],
 "metadata": {
  "kernelspec": {
   "display_name": "Python 2",
   "language": "python",
   "name": "python2"
  },
  "language_info": {
   "codemirror_mode": {
    "name": "ipython",
    "version": 2
   },
   "file_extension": ".py",
   "mimetype": "text/x-python",
   "name": "python",
   "nbconvert_exporter": "python",
   "pygments_lexer": "ipython2",
   "version": "2.7.13"
  }
 },
 "nbformat": 4,
 "nbformat_minor": 2
}
